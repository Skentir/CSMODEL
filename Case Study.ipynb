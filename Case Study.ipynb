{
 "cells": [
  {
   "cell_type": "markdown",
   "metadata": {},
   "source": [
    "# Insert Title of the Case Study"
   ]
  },
  {
   "cell_type": "markdown",
   "metadata": {},
   "source": [
    "Required Parts:\n",
    "1. Data Description\n",
    "2. Exploratory Data Analysis\n",
    "3. Research Questions\n",
    "4. Data Modelling\n",
    "5. Insights and Conclusions\n",
    "\n",
    "For reference on how to use markdown, check link: https://daringfireball.net/projects/markdown/syntax  \n",
    "Link of dataset: http://archive.ics.uci.edu/ml/datasets/Heart+failure+clinical+records  \n",
    "Link of research that used the dataset: https://bmcmedinformdecismak.biomedcentral.com/articles/10.1186/s12911-020-1023-5 "
   ]
  },
  {
   "cell_type": "markdown",
   "metadata": {},
   "source": [
    "## 1. Data Description\n",
    "> Describe how the dataset was collected and the implications of the data collection method on the generated conclusions and insights. Note that you may need to look at the relevant sources related to the dataset you are\n",
    "working on to be able to provide the necessary information for this part of the project."
   ]
  },
  {
   "cell_type": "markdown",
   "metadata": {},
   "source": [
    "### 1.1. Dataset Details"
   ]
  },
  {
   "cell_type": "markdown",
   "metadata": {},
   "source": [
    "The dataset used in this case study is based on the medical records of heart failure patients collected at the Faisalabad Institute of Cardiology and at the Allied Hospital in Faisalabad (Punjab, Pakistan) from April 2015 to December 2015 [1, 2]. The researchers of the original study ensured that all patients who participated in the data collection are aware of the situation and have provided their consent [2]. Additionally, the original study was approved by Institutional Review Board of Government College University, Faisalabad-Pakistan and follows the principles of Helsinki Declaration [2]."
   ]
  },
  {
   "cell_type": "markdown",
   "metadata": {},
   "source": [
    "## 2. Exploratory Data Analysis\n",
    "> Perform data cleaning (if needed) and perform exploratory data analysis. This part of the project should include numerical summaries and visualizations whenever appropriate. Each visualization should be accompanied by a brief explanation. The exploratory data analysis should guide you in formulating the research questions in the next step. \n",
    "You should perform exploratory data analysis comprehensively to gain a good understanding of your dataset. However, for the Notebook, please choose only 3 of the most interesting exploratory questions that you did for your dataset. For these exploratory questions, please include numerical summaries and visualizations that address these questions along with textual descriptions of your processes and findings."
   ]
  },
  {
   "cell_type": "markdown",
   "metadata": {},
   "source": [
    "## 3. Research Questions\n",
    "> Come up with at least 2 research questions that you want to answer using the dataset. The 2 research questions should be answerable using different methods (i.e., do not choose 2 questions that could be answered using the exact same approach but just changing some of the parameters). You should select research questions that are within the scope of the dataset you are working on. For each research question, you must indicate why this question is of interest to you and the community."
   ]
  },
  {
   "cell_type": "markdown",
   "metadata": {},
   "source": [
    "## 4. Data Modelling\n",
    "> Perform the necessary steps in answering each of the research questions you have identified. This includes cleaning and validating the data, performing exploratory data analysis, and applying the appropriate data modelling technique for the dataset and each of the research questions that you aim to address."
   ]
  },
  {
   "cell_type": "markdown",
   "metadata": {},
   "source": [
    "## 5. Insights and Conclusion\n",
    "> Clearly state your insights and conclusions from the data to answer each research question you have defined. Make sure that all conclusions are backed up with statistical evidence when necessary."
   ]
  },
  {
   "cell_type": "markdown",
   "metadata": {},
   "source": [
    "## 6. References\n",
    "<pre>\n",
    "[1] D. Chicco and G. Jurman, \"Machine learning can predict survival of patients with heart failure from serum creatinine \n",
    "     and ejection fraction alone,\" BMC Med Inform Decis Mak, vol. 20, no. 1, Feb. 2020, doi: 10.1186/s12911-020-1023-5.  \n",
    "[2] T. Ahmad, A. Munir, S. H. Bhatti, M. Aftab, and M. A. Raza, \"Survival analysis of heart failure patients: A case \n",
    "     study,\" PloS one, vol. 12, no. 7, Jul. 2017, doi: https://doi.org/10.1371/journal.pone.0181001.\n",
    "</pre>"
   ]
  }
 ],
 "metadata": {
  "kernelspec": {
   "display_name": "Python 3",
   "language": "python",
   "name": "python3"
  },
  "language_info": {
   "codemirror_mode": {
    "name": "ipython",
    "version": 3
   },
   "file_extension": ".py",
   "mimetype": "text/x-python",
   "name": "python",
   "nbconvert_exporter": "python",
   "pygments_lexer": "ipython3",
   "version": "3.7.6"
  }
 },
 "nbformat": 4,
 "nbformat_minor": 4
}
